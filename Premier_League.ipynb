{
  "nbformat": 4,
  "nbformat_minor": 0,
  "metadata": {
    "kernelspec": {
      "display_name": "Python 3",
      "language": "python",
      "name": "python3"
    },
    "language_info": {
      "codemirror_mode": {
        "name": "ipython",
        "version": 3
      },
      "file_extension": ".py",
      "mimetype": "text/x-python",
      "name": "python",
      "nbconvert_exporter": "python",
      "pygments_lexer": "ipython3",
      "version": "3.6.5"
    },
    "colab": {
      "name": "Premier League.ipynb",
      "provenance": [],
      "include_colab_link": true
    }
  },
  "cells": [
    {
      "cell_type": "markdown",
      "metadata": {
        "id": "view-in-github",
        "colab_type": "text"
      },
      "source": [
        "<a href=\"https://colab.research.google.com/github/KleberBarilli/Codes-Python/blob/master/Premier_League.ipynb\" target=\"_parent\"><img src=\"https://colab.research.google.com/assets/colab-badge.svg\" alt=\"Open In Colab\"/></a>"
      ]
    },
    {
      "cell_type": "raw",
      "metadata": {
        "id": "-MN3_URCWVsc"
      },
      "source": [
        "FTHG - Gols do time da casa\n",
        "FTAG - Gols do visitante\n",
        "FTR - Resultado do jogo\n",
        "HTHG - Gols do time da casa no primeiro tempo\n",
        "HTAG - Gols do visitante no primeiro tempo\n",
        "HTR - Resultado do primeiro tempo\n",
        "HS - Total de chutes do time da casa\n",
        "AS - Total de chutes do visitante\n",
        "HST - Total de chutes no GOL do time da casa\n",
        "AST - Total de chutes no GOL do visitante"
      ]
    },
    {
      "cell_type": "code",
      "metadata": {
        "scrolled": true,
        "id": "FWZqL5ZgWVsi"
      },
      "source": [
        "import pandas as pd\n",
        "\n",
        "s1 = pd.read_csv(\"PL16-17.csv\")\n",
        "s2 = pd.read_csv(\"PL17-18.csv\")\n",
        "s3 = pd.read_csv(\"PL18-19.csv\")\n",
        "\n",
        "\n",
        "df = pd.concat([s1,s2,s3],sort=False)\n",
        "df = df.drop(columns=[\"Div\",\"Referee\",\"WHH\",\"WHD\",\"WHA\",\"VCH\",\"VCD\",\"VCA\",\"Bb1X2\",\"BbMxH\",\"BbAvH\",\"BbMxD\",\"BbAvD\",\"BbMxA\",\"BbAvA\",\"BbOU\",\"BbMx>2.5\",\"BbAv>2.5\",\"BbMx<2.5\",\"BbAv<2.5\",\"BbAH\",\"BbAHh\",\"BbMxAHH\",\"BbAvAHH\",\"BbMxAHA\",\"BbAvAHA\",\"PSCH\",\"PSCD\",\"PSCA\",\"BWH\",\"BWD\",\"BWA\",\"IWH\",\"IWD\",\"IWA\",\"PSH\",\"PSD\",\"PSA\",\"HC\",\"AC\",\"HF\",\"AF\",\"HY\",\"AY\",\"HR\",\"AR\",\"LBA\",\"LBD\",\"LBH\"])\n"
      ],
      "execution_count": null,
      "outputs": []
    },
    {
      "cell_type": "code",
      "metadata": {
        "id": "R2dx4TDGWVsl"
      },
      "source": [
        "\n",
        "df.index = range(df.shape[0])\n",
        "df.columns.name=\"id\""
      ],
      "execution_count": null,
      "outputs": []
    },
    {
      "cell_type": "code",
      "metadata": {
        "id": "tcm8xFU8WVsm",
        "outputId": "aa2447ce-c76e-4f62-b6dd-f79fa0a2c328"
      },
      "source": [
        "df.tail()"
      ],
      "execution_count": null,
      "outputs": [
        {
          "output_type": "execute_result",
          "data": {
            "text/html": [
              "<div>\n",
              "<style scoped>\n",
              "    .dataframe tbody tr th:only-of-type {\n",
              "        vertical-align: middle;\n",
              "    }\n",
              "\n",
              "    .dataframe tbody tr th {\n",
              "        vertical-align: top;\n",
              "    }\n",
              "\n",
              "    .dataframe thead th {\n",
              "        text-align: right;\n",
              "    }\n",
              "</style>\n",
              "<table border=\"1\" class=\"dataframe\">\n",
              "  <thead>\n",
              "    <tr style=\"text-align: right;\">\n",
              "      <th>id</th>\n",
              "      <th>Date</th>\n",
              "      <th>HomeTeam</th>\n",
              "      <th>AwayTeam</th>\n",
              "      <th>FTHG</th>\n",
              "      <th>FTAG</th>\n",
              "      <th>FTR</th>\n",
              "      <th>HTHG</th>\n",
              "      <th>HTAG</th>\n",
              "      <th>HTR</th>\n",
              "      <th>HS</th>\n",
              "      <th>AS</th>\n",
              "      <th>HST</th>\n",
              "      <th>AST</th>\n",
              "      <th>B365H</th>\n",
              "      <th>B365D</th>\n",
              "      <th>B365A</th>\n",
              "    </tr>\n",
              "  </thead>\n",
              "  <tbody>\n",
              "    <tr>\n",
              "      <th>1135</th>\n",
              "      <td>12/05/2019</td>\n",
              "      <td>Liverpool</td>\n",
              "      <td>Wolves</td>\n",
              "      <td>2</td>\n",
              "      <td>0</td>\n",
              "      <td>H</td>\n",
              "      <td>1</td>\n",
              "      <td>0</td>\n",
              "      <td>H</td>\n",
              "      <td>13</td>\n",
              "      <td>7</td>\n",
              "      <td>5</td>\n",
              "      <td>2</td>\n",
              "      <td>1.30</td>\n",
              "      <td>6.00</td>\n",
              "      <td>11.0</td>\n",
              "    </tr>\n",
              "    <tr>\n",
              "      <th>1136</th>\n",
              "      <td>12/05/2019</td>\n",
              "      <td>Man United</td>\n",
              "      <td>Cardiff</td>\n",
              "      <td>0</td>\n",
              "      <td>2</td>\n",
              "      <td>A</td>\n",
              "      <td>0</td>\n",
              "      <td>1</td>\n",
              "      <td>A</td>\n",
              "      <td>26</td>\n",
              "      <td>13</td>\n",
              "      <td>10</td>\n",
              "      <td>4</td>\n",
              "      <td>1.28</td>\n",
              "      <td>6.50</td>\n",
              "      <td>11.0</td>\n",
              "    </tr>\n",
              "    <tr>\n",
              "      <th>1137</th>\n",
              "      <td>12/05/2019</td>\n",
              "      <td>Southampton</td>\n",
              "      <td>Huddersfield</td>\n",
              "      <td>1</td>\n",
              "      <td>1</td>\n",
              "      <td>D</td>\n",
              "      <td>1</td>\n",
              "      <td>0</td>\n",
              "      <td>H</td>\n",
              "      <td>10</td>\n",
              "      <td>10</td>\n",
              "      <td>3</td>\n",
              "      <td>3</td>\n",
              "      <td>1.44</td>\n",
              "      <td>4.75</td>\n",
              "      <td>8.5</td>\n",
              "    </tr>\n",
              "    <tr>\n",
              "      <th>1138</th>\n",
              "      <td>12/05/2019</td>\n",
              "      <td>Tottenham</td>\n",
              "      <td>Everton</td>\n",
              "      <td>2</td>\n",
              "      <td>2</td>\n",
              "      <td>D</td>\n",
              "      <td>1</td>\n",
              "      <td>0</td>\n",
              "      <td>H</td>\n",
              "      <td>11</td>\n",
              "      <td>17</td>\n",
              "      <td>3</td>\n",
              "      <td>9</td>\n",
              "      <td>2.20</td>\n",
              "      <td>3.50</td>\n",
              "      <td>3.5</td>\n",
              "    </tr>\n",
              "    <tr>\n",
              "      <th>1139</th>\n",
              "      <td>12/05/2019</td>\n",
              "      <td>Watford</td>\n",
              "      <td>West Ham</td>\n",
              "      <td>1</td>\n",
              "      <td>4</td>\n",
              "      <td>A</td>\n",
              "      <td>0</td>\n",
              "      <td>2</td>\n",
              "      <td>A</td>\n",
              "      <td>17</td>\n",
              "      <td>16</td>\n",
              "      <td>8</td>\n",
              "      <td>9</td>\n",
              "      <td>2.25</td>\n",
              "      <td>3.75</td>\n",
              "      <td>3.2</td>\n",
              "    </tr>\n",
              "  </tbody>\n",
              "</table>\n",
              "</div>"
            ],
            "text/plain": [
              "id          Date     HomeTeam      AwayTeam  FTHG  FTAG FTR  HTHG  HTAG HTR  \\\n",
              "1135  12/05/2019    Liverpool        Wolves     2     0   H     1     0   H   \n",
              "1136  12/05/2019   Man United       Cardiff     0     2   A     0     1   A   \n",
              "1137  12/05/2019  Southampton  Huddersfield     1     1   D     1     0   H   \n",
              "1138  12/05/2019    Tottenham       Everton     2     2   D     1     0   H   \n",
              "1139  12/05/2019      Watford      West Ham     1     4   A     0     2   A   \n",
              "\n",
              "id    HS  AS  HST  AST  B365H  B365D  B365A  \n",
              "1135  13   7    5    2   1.30   6.00   11.0  \n",
              "1136  26  13   10    4   1.28   6.50   11.0  \n",
              "1137  10  10    3    3   1.44   4.75    8.5  \n",
              "1138  11  17    3    9   2.20   3.50    3.5  \n",
              "1139  17  16    8    9   2.25   3.75    3.2  "
            ]
          },
          "metadata": {
            "tags": []
          },
          "execution_count": 3
        }
      ]
    },
    {
      "cell_type": "code",
      "metadata": {
        "id": "Ww2Sxx2mWVsp",
        "outputId": "e68055bb-8213-43c6-e156-3b142b949b9e"
      },
      "source": [
        "h = df['FTHG']\n",
        "a = df['FTAG']\n",
        "o = 0 #OVER\n",
        "u = 0 #UNDER\n",
        "x = 0\n",
        "for i in range(len(df)):\n",
        "    if h[x]+a[x]>1:\n",
        "        o+=1\n",
        "    else:\n",
        "        u+=1\n",
        "    x+=1    \n",
        "print(o)\n",
        "print(u)\n",
        "porcentagem = o/(o+u)*100\n",
        "print(\"Porcentagem de jogos OVER 1.5 {:.2f}%\".format(porcentagem))"
      ],
      "execution_count": null,
      "outputs": [
        {
          "output_type": "stream",
          "text": [
            "862\n",
            "278\n",
            "Porcentagem de jogos OVER 1.5 75.61%\n"
          ],
          "name": "stdout"
        }
      ]
    }
  ]
}