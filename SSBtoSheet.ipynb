{
  "nbformat": 4,
  "nbformat_minor": 0,
  "metadata": {
    "colab": {
      "name": "SSBtoSheet.ipynb",
      "provenance": [],
      "authorship_tag": "ABX9TyP2uBT/ZTT2g8kM5kab0l//",
      "include_colab_link": true
    },
    "kernelspec": {
      "name": "python3",
      "display_name": "Python 3"
    }
  },
  "cells": [
    {
      "cell_type": "markdown",
      "metadata": {
        "id": "view-in-github",
        "colab_type": "text"
      },
      "source": [
        "<a href=\"https://colab.research.google.com/github/KleberBarilli/Codes-Python/blob/master/SSBtoSheet.ipynb\" target=\"_parent\"><img src=\"https://colab.research.google.com/assets/colab-badge.svg\" alt=\"Open In Colab\"/></a>"
      ]
    },
    {
      "cell_type": "code",
      "metadata": {
        "id": "KJhYWZTe6OAA",
        "colab": {
          "base_uri": "https://localhost:8080/"
        },
        "outputId": "ec734405-51cb-4f33-fc1d-e456b884b38c"
      },
      "source": [
        ""
      ],
      "execution_count": null,
      "outputs": [
        {
          "output_type": "stream",
          "text": [
            "Requirement already satisfied: gspread in /usr/local/lib/python3.7/dist-packages (3.0.1)\n",
            "Requirement already satisfied: requests>=2.2.1 in /usr/local/lib/python3.7/dist-packages (from gspread) (2.23.0)\n",
            "Requirement already satisfied: idna<3,>=2.5 in /usr/local/lib/python3.7/dist-packages (from requests>=2.2.1->gspread) (2.10)\n",
            "Requirement already satisfied: chardet<4,>=3.0.2 in /usr/local/lib/python3.7/dist-packages (from requests>=2.2.1->gspread) (3.0.4)\n",
            "Requirement already satisfied: certifi>=2017.4.17 in /usr/local/lib/python3.7/dist-packages (from requests>=2.2.1->gspread) (2020.12.5)\n",
            "Requirement already satisfied: urllib3!=1.25.0,!=1.25.1,<1.26,>=1.21.1 in /usr/local/lib/python3.7/dist-packages (from requests>=2.2.1->gspread) (1.24.3)\n"
          ],
          "name": "stdout"
        }
      ]
    },
    {
      "cell_type": "code",
      "metadata": {
        "id": "s44wkTqX6Yr9"
      },
      "source": [
        "from google.colab import auth\n",
        "import gspread\n",
        "from oauth2client.client import GoogleCredentials"
      ],
      "execution_count": null,
      "outputs": []
    },
    {
      "cell_type": "code",
      "metadata": {
        "id": "HEGrdElA6ajJ"
      },
      "source": [
        "auth.authenticate_user()\n",
        "gc = gspread.authorize(GoogleCredentials.get_application_default())"
      ],
      "execution_count": null,
      "outputs": []
    },
    {
      "cell_type": "code",
      "metadata": {
        "id": "PstpFYDV6awn"
      },
      "source": [
        "gc.list_spreadsheet_files()"
      ],
      "execution_count": null,
      "outputs": []
    },
    {
      "cell_type": "code",
      "metadata": {
        "id": "GLYrI6GS8Iqa",
        "colab": {
          "base_uri": "https://localhost:8080/"
        },
        "outputId": "9d33d3d9-f275-47d6-c1b4-923362226446"
      },
      "source": [
        "#BTTS SHEET\n",
        "\n",
        "def next_available_row(sheet, cols_to_sample=2):\n",
        "  # looks for empty row based on values appearing in 1st N columns\n",
        "  cols = sheet.range(1, 1, sheet.row_count, cols_to_sample)\n",
        "  return max([cell.row for cell in cols if cell.value]) + 1\n",
        "\n",
        "\n",
        "planilha = gc.open('Gestão de banca')\n",
        "\n",
        "btts = planilha.get_worksheet(2)\n",
        "next_row = next_available_row(btts)\n",
        "\n",
        "#insert on the next av]ailable row\n",
        "\n",
        "league = input(\"Liga:\")\n",
        "match = input(\"Partida:\")\n",
        "lP = input(\"%Liga:\")\n",
        "hP = input(\"%Casa:\")\n",
        "aP = input(\"%For-a:\")\n",
        "h25 = input(\"%Casa 2.5:\")\n",
        "a25 = input(\"%Fora 2.5:\")\n",
        "hHt = input(\"%Casa gol Ht:\")\n",
        "aHt = input(\"%Fora gol Ht:\")\n",
        "h5 = int(input(\"Btts nos ultimos 5 jogos casa:\"))\n",
        "a5 = int(input(\"Btts nos ultimos 5 jogos fora:\"))\n",
        "h2h = input(\"H2H:\")\n",
        "btts20 = int(input(\"Btts 20 jogos:\"))\n",
        "odd = input('Odd:')\n",
        "result = input(\"Resultado\")\n",
        "\n",
        "\n",
        "btts.update_acell(\"A{}\".format(next_row), league)\n",
        "btts.update_acell(\"B{}\".format(next_row), match)\n",
        "btts.update_acell(\"C{}\".format(next_row), lP+'%')\n",
        "btts.update_acell(\"D{}\".format(next_row), hP+'%')\n",
        "btts.update_acell(\"E{}\".format(next_row), aP+'%')\n",
        "btts.update_acell(\"G{}\".format(next_row), h25+'%')\n",
        "btts.update_acell(\"H{}\".format(next_row), a25+'%')\n",
        "btts.update_acell(\"I{}\".format(next_row), hHt+'%')\n",
        "btts.update_acell(\"J{}\".format(next_row), aHt+'%')\n",
        "btts.update_acell(\"K{}\".format(next_row), h5)\n",
        "btts.update_acell(\"L{}\".format(next_row), a5)\n",
        "btts.update_acell(\"M{}\".format(next_row), h2h)\n",
        "btts.update_acell(\"N{}\".format(next_row), btts20)\n",
        "btts.update_acell(\"O{}\".format(next_row), odd)\n",
        "btts.update_acell(\"P{}\".format(next_row), result)"
      ],
      "execution_count": null,
      "outputs": [
        {
          "output_type": "stream",
          "text": [
            "Liga:A-League\n",
            "Partida:Victory x Wanders\n",
            "%Liga:60\n",
            "%Casa:50\n",
            "%For-a:62\n",
            "%Casa 2.5:62\n",
            "%Fora 2.5:47\n",
            "%Casa gol Ht:-\n",
            "%Fora gol Ht:-\n",
            "Btts nos ultimos 5 jogos casa:2\n",
            "Btts nos ultimos 5 jogos fora:4\n",
            "H2H:3\n",
            "Btts 20 jogos:12\n",
            "Odd:-\n",
            "Resultado-\n"
          ],
          "name": "stdout"
        },
        {
          "output_type": "execute_result",
          "data": {
            "text/plain": [
              "{'spreadsheetId': '1fCdihqbjKGHgsOQN3qLP8hCZiM6S2cG9dTVX_fR_voY',\n",
              " 'updatedCells': 1,\n",
              " 'updatedColumns': 1,\n",
              " 'updatedRange': 'Goals!P100',\n",
              " 'updatedRows': 1}"
            ]
          },
          "metadata": {
            "tags": []
          },
          "execution_count": 9
        }
      ]
    },
    {
      "cell_type": "code",
      "metadata": {
        "id": "0aoHUz_UV1KT",
        "colab": {
          "base_uri": "https://localhost:8080/"
        },
        "outputId": "0c5e2cd5-e3e7-4f9f-ee96-1c0113463f7f"
      },
      "source": [
        "#Corners Sheet - 3 = Corner 9, 4 = Corners 10\n",
        "\n",
        "def next_available_row(sheet, cols_to_sample=2):\n",
        "  # looks for empty row based on values appearing in 1st N columns\n",
        "  cols = sheet.range(1, 1, sheet.row_count, cols_to_sample)\n",
        "  return max([cell.row for cell in cols if cell.value]) + 1\n",
        "\n",
        "\n",
        "planilha = gc.open('Gestão de banca')\n",
        "\n",
        "metodo = int(input(\"Over 9[0] ou 10[1]??\"))\n",
        "corner = planilha.get_worksheet(metodo)\n",
        "next_row = next_available_row(corner)\n",
        "\n",
        "casaHt = [27]\n",
        "foraHt = [12]\n",
        "jogosCasaFora = [23,14]\n",
        "ultimos10 = [12,54,9,6,0,22,18,10,20,28]\n",
        "\n",
        "#3\n",
        "#\n",
        "totalCasaHt = sum(casaHt)\n",
        "totalForaHt = sum(foraHt)\n",
        "\n",
        "total5 = sum(jogosCasaFora)/5\n",
        "total5 = round(total5,2)\n",
        "\n",
        "total10 = sum(ultimos10)/20\n",
        "total10 = round(total10,2)\n",
        "'morecambe, brenfotd, , emelec ver, medelin ver'\n",
        "\n",
        "league = 'Premier League'\n",
        "match = 'Arsenal x Everton'\n",
        "m = '9,9'\n",
        "mH = '5,2'\n",
        "mA = '4,2'\n",
        "h2h = '2'\n",
        "hG7 = 2\n",
        "aG7 = 4\n",
        "odd = '-'\n",
        "result = '-'\n",
        "\n",
        "\n",
        "corner.update_acell(\"A{}\".format(next_row), league)\n",
        "corner.update_acell(\"B{}\".format(next_row), match)\n",
        "corner.update_acell(\"C{}\".format(next_row), m)\n",
        "corner.update_acell(\"D{}\".format(next_row), mH)\n",
        "corner.update_acell(\"E{}\".format(next_row), mA)\n",
        "corner.update_acell(\"G{}\".format(next_row), totalCasaHt)\n",
        "corner.update_acell(\"H{}\".format(next_row), totalForaHt)\n",
        "corner.update_acell(\"J{}\".format(next_row), total5)\n",
        "corner.update_acell(\"K{}\".format(next_row), total10)\n",
        "corner.update_acell(\"L{}\".format(next_row), h2h)\n",
        "corner.update_acell(\"M{}\".format(next_row), hG7)\n",
        "corner.update_acell(\"N{}\".format(next_row), aG7)\n",
        "corner.update_acell(\"P{}\".format(next_row), odd)\n",
        "corner.update_acell(\"R{}\".format(next_row), result)"
      ],
      "execution_count": null,
      "outputs": [
        {
          "output_type": "stream",
          "text": [
            "Over 9[0] ou 10[1]??0\n"
          ],
          "name": "stdout"
        },
        {
          "output_type": "execute_result",
          "data": {
            "text/plain": [
              "{'spreadsheetId': '1fCdihqbjKGHgsOQN3qLP8hCZiM6S2cG9dTVX_fR_voY',\n",
              " 'updatedCells': 1,\n",
              " 'updatedColumns': 1,\n",
              " 'updatedRange': \"'Over 9'!R108\",\n",
              " 'updatedRows': 1}"
            ]
          },
          "metadata": {
            "tags": []
          },
          "execution_count": 18
        }
      ]
    },
    {
      "cell_type": "code",
      "metadata": {
        "colab": {
          "base_uri": "https://localhost:8080/"
        },
        "id": "laomfWp3hF5e",
        "outputId": "4a357a7d-03b3-4e34-d6bf-c430c70f6ee2"
      },
      "source": [
        "casaHt = [5,4,7]\n",
        "taotal = sum(casaHt)/3\n",
        "round(taotal,2)\n"
      ],
      "execution_count": null,
      "outputs": [
        {
          "output_type": "execute_result",
          "data": {
            "text/plain": [
              "5.33"
            ]
          },
          "metadata": {
            "tags": []
          },
          "execution_count": 79
        }
      ]
    }
  ]
}